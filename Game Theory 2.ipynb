{
 "cells": [
  {
   "cell_type": "markdown",
   "metadata": {},
   "source": [
    "### Iterated Prisoner's Dilemma\n",
    "\n",
    "Prisoners have a choice: defect or cooperate with each other.\n",
    "\n",
    "$\n",
    "\\begin{bmatrix}\n",
    "-1,-1 & -9,0 \\\\\n",
    "0,-9 & -6,-6\n",
    "\\end{bmatrix}\n",
    "$\n",
    "\n",
    "If you know what the last round is, the prisoners will choose to defect always, but if they do not know the last round, they may not."
   ]
  },
  {
   "cell_type": "markdown",
   "metadata": {},
   "source": [
    "### Uncertain End: Discounting\n",
    "\n",
    "With probability $\\gamma$, game continues.\n",
    "\n",
    "Every round could be your last. or not.\n",
    "\n",
    "Expected # rounds? Finit if $\\gamma < 1$ => $\\frac{1}{1-\\gamma}$\n",
    "\n",
    "Gamma is similar to the discount factor we discussed before."
   ]
  },
  {
   "cell_type": "markdown",
   "metadata": {},
   "source": [
    "### Tit for Tat\n",
    "\n",
    "Famous IPD strategy\n",
    "- cooperate on first round\n",
    "- copy opponent's previous move thereafter\n",
    "\n",
    "![tftstate](images/tftstate.PNG)"
   ]
  },
  {
   "cell_type": "markdown",
   "metadata": {},
   "source": [
    "### Tit for Tat: Quiz\n",
    "\n",
    "![tftquiz](images/tftquiz.PNG)\n",
    "\n",
    "### Tit for Tat: Answer\n",
    "\n",
    "![tftquizans](images/tftquizans.PNG)\n",
    "\n",
    "### Tit for Tat: Best Strategy\n",
    "\n",
    "![1/6](images/tftbeststratquiz.PNG)"
   ]
  },
  {
   "cell_type": "markdown",
   "metadata": {},
   "source": [
    "### Best Response to a Finite-State Strategy\n",
    "\n",
    "- States labeled with opponent's choice (green)\n",
    "- edges labeled with our choice (black)\n",
    "- edges annotated with our payoff for that choice (red)\n",
    "\n",
    "Our choices impacts our payoff and future decisions of the opponent.\n",
    "- the matrix was all we needed once!\n",
    "- MDP -> we can use value iteration to solve MDP.\n",
    "\n",
    "![tftfsm](images/tftfsm.PNG)\n",
    "\n",
    "Only 3 strategies: Always C, Always D, D-C-D-C..."
   ]
  },
  {
   "cell_type": "markdown",
   "metadata": {},
   "source": [
    "### Best Repsonses in IPD\n",
    "\n",
    "What is the best answer if your opponent is:\n",
    "- Always Cooperating?\n",
    "- Always Defecting?\n",
    "- TFT?\n",
    "\n",
    "Mutual best repsonse.  Pair of strategies where each best response to other. Nash! Always Defecting and TFT are the best mutual response.  No one would want to change their strategies in this equilibrium."
   ]
  },
  {
   "cell_type": "markdown",
   "metadata": {},
   "source": [
    "### Repeated Games and the Folk Theorem\n",
    "\n",
    "General Idea: In repeated games, the possibility of retaliation opens the door for cooperation.\n",
    "\n",
    "What's a \"Folk Theorem\"? - oral tradition.  Something that is known just not published.\n",
    "\n",
    "In mathematics: Results known, at least to experts in the field, and considered to have established status, but not published in complete form.\n",
    "\n",
    "#### Folk Theorem\n",
    "\n",
    "In game theory, though, Folk Theorem refers to a particular result:\n",
    "\n",
    "Describes the set of payoffs that can result from Nash strategies in __repeated__ games."
   ]
  },
  {
   "attachments": {},
   "cell_type": "markdown",
   "metadata": {},
   "source": [
    "### Minmax quiz\n",
    "If player A tries to protect itself againt malicious strategies, how much of a reward on average can they hope to see?\n",
    "\n",
    "![minmax](images/minmaxquiz.PNG)"
   ]
  },
  {
   "cell_type": "markdown",
   "metadata": {},
   "source": [
    "### Folk Theorem\n",
    "Any feasible payoff profile that strictly dominates the minimax(pure strats)/security level(mixed strats) profile can be realized as a Nash equilibrium payoff profile, with sufficiently large discount factor.\n",
    "\n",
    "Proof: If it strictly dominates the minmax profile, can use it as a threat. Better off doing what you are told!\n",
    "\n",
    "#### Grim Trigger\n",
    "\n",
    "![grimtrigger](images/grimtrigger.PNG)\n",
    "\n",
    "Will cooperate until you defect, then will always defect."
   ]
  },
  {
   "cell_type": "markdown",
   "metadata": {},
   "source": [
    "### Implausible Threats\n",
    "\n",
    "**Subgame perfect**: Always best response independent of history.\n",
    "\n",
    "Is there a history you can feed these machines so that the machine does not act optimally and there is an outside action you can take to maximize reward?\n",
    "\n",
    "##### Grim vs TFT\n",
    "\n",
    "If you set the first move to TFT -> D, and Grim C.  We get into an always defect strat which is not optimal.\n",
    "\n",
    "Grim vs TFT is not subgame perfect."
   ]
  },
  {
   "cell_type": "markdown",
   "metadata": {},
   "source": [
    "# [Evolution of Trust showcasing multiple strategies](http://ncase.me/trust/)"
   ]
  }
 ],
 "metadata": {
  "kernelspec": {
   "display_name": "Python 2",
   "language": "python",
   "name": "python2"
  },
  "language_info": {
   "codemirror_mode": {
    "name": "ipython",
    "version": 2
   },
   "file_extension": ".py",
   "mimetype": "text/x-python",
   "name": "python",
   "nbconvert_exporter": "python",
   "pygments_lexer": "ipython2",
   "version": "2.7.14"
  }
 },
 "nbformat": 4,
 "nbformat_minor": 2
}
