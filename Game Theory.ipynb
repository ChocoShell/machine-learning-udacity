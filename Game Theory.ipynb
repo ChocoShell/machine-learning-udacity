{
 "cells": [
  {
   "cell_type": "markdown",
   "metadata": {},
   "source": [
    "# Game Theory\n",
    "\n",
    "- Mathematics of Conflicts Interest\n",
    "\n",
    "- Single Agents -> Multiple Agents\n",
    "\n",
    "- Economics is the of math and science of what happens with multiple people with multiple goals, possibly conflicting, trying to work toward common goals. Politics, Biology, Sociology, etc.\n",
    "\n",
    "- Increasingly a part of AI/ML\n",
    "\n",
    "How do you incorporate other people's goals to maximize yours?"
   ]
  },
  {
   "cell_type": "markdown",
   "metadata": {},
   "source": [
    "### A Simple Game - 1\n",
    "\n",
    "- 2 player game\n",
    "- zero-sum game: Players are taking from the same reward pool.\n",
    "- deterministic: A game is deterministic if the resolution of player actions leads to completely predictable outcomes.\n",
    "- finite\n",
    "- perfect information\n",
    "- A chooses an action at states 1 and 4, B chooses at 2 and 3.\n",
    "- B gets the inverse of A. (if A gets +7, B gets -7)\n",
    "\n",
    "![Simple Game](simplegamequiz.PNG)\n",
    "\n",
    "What is the optimal stratgey for each player?"
   ]
  },
  {
   "cell_type": "markdown",
   "metadata": {},
   "source": [
    "### Fundamental Result\n",
    "\n",
    "In a 2-player, zero-sum deterministic game of perfect information\n",
    "\n",
    "Minimax = Maximin and there always exists an optimal pure strategy for each player.\n",
    "\n",
    "I'm assuming all other players are playing optimally and they assume everyone else is playing optimal.\n",
    "\n",
    "Optimal - Everyone is trying to maximize their rewards, knowing everyone else is trying to do the same.\n",
    "\n",
    "May not be the case if we were not in a \"2-player, zero-sum deterministic game of perfect information\""
   ]
  },
  {
   "cell_type": "markdown",
   "metadata": {},
   "source": [
    "### Game Tree\n",
    "![Game Tree](gametree.PNG)\n",
    "\n",
    "What is the optimal strategy? (R, L) -> -2\n",
    "\n",
    "This minimax theorem is called [von Neumann's theorem](https://en.wikipedia.org/wiki/Minimax_theorem) and it also works for non-deterministic games."
   ]
  },
  {
   "cell_type": "markdown",
   "metadata": {},
   "source": [
    "### Minipoker\n",
    "\n",
    "![Minipoker Rules](minipokerrules.PNG)\n",
    "\n",
    "![Minipoker Quiz](minipoker.PNG)\n",
    "\n",
    "\n",
    "Note: We've been using pure strategies up until this point.  Now we may employ mixed strategies.\n",
    "\n",
    "A **pure strategy** determines all your moves during the game (and should therefore specify your moves for all possible other players' moves).\n",
    "\n",
    "A **mixed strategy** is a probability distribution over all possible pure strategies (some of which may get zero weight). After a player has determined a mixed strategy at the beginning of the game, using a randomising device, that player may pick one of those pure strategies and then stick to it."
   ]
  },
  {
   "cell_type": "markdown",
   "metadata": {},
   "source": [
    "### Mixed Strategy\n",
    "\n",
    "![minipokerprobability](minipokerprobability.PNG)\n",
    "\n",
    "Given probability P, what is the expected value when: B is always resigning and B is always seeing?\n",
    "\n",
    "The answer to this quiz gives us 2 lines.\n",
    "\n",
    "![minipokerlines](minipokerlines.PNG)"
   ]
  },
  {
   "cell_type": "markdown",
   "metadata": {},
   "source": [
    "\n",
    "\n"
   ]
  }
 ],
 "metadata": {
  "kernelspec": {
   "display_name": "Python 2",
   "language": "python",
   "name": "python2"
  },
  "language_info": {
   "codemirror_mode": {
    "name": "ipython",
    "version": 2
   },
   "file_extension": ".py",
   "mimetype": "text/x-python",
   "name": "python",
   "nbconvert_exporter": "python",
   "pygments_lexer": "ipython2",
   "version": "2.7.14"
  }
 },
 "nbformat": 4,
 "nbformat_minor": 2
}
